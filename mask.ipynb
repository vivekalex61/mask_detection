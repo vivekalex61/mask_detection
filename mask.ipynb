{
  "nbformat": 4,
  "nbformat_minor": 0,
  "metadata": {
    "colab": {
      "name": "mask.ipynb",
      "provenance": [],
      "private_outputs": true,
      "toc_visible": true
    },
    "kernelspec": {
      "name": "python3",
      "display_name": "Python 3"
    }
  },
  "cells": [
    {
      "cell_type": "code",
      "metadata": {
        "id": "GqyaoWSIbeZi",
        "colab_type": "code",
        "colab": {}
      },
      "source": [
        "import cv2\n",
        "import sys\n",
        "from keras.models import load_model\n",
        "from keras.preprocessing import image\n",
        "import numpy as np\n",
        "#path to the model\n",
        "model=load_model('Downloads/mask/maskn6.h5')\n",
        "#loading the cascadeclassifier file\n",
        "faceCascade = cv2.CascadeClassifier('Downloads/mask/haarcascade_frontalface_default.xml')\n",
        "#video capture\n",
        "video_capture = cv2.VideoCapture(0)\n",
        "\n",
        "while video_capture.isOpened():\n",
        "    # Capture frame-by-frame\n",
        "    ret, frame = video_capture.read()\n",
        "\n",
        "    gray = cv2.cvtColor(frame, cv2.COLOR_BGR2GRAY)\n",
        "\n",
        "    faces = faceCascade.detectMultiScale(\n",
        "        gray,\n",
        "        scaleFactor=1.1,\n",
        "        minNeighbors=5,\n",
        "        minSize=(30, 30))\n",
        "\n",
        "    # Draw a rectangle around the faces\n",
        "    for (x, y, w, h) in faces:\n",
        "   \n",
        "        img1=cv2.resize(frame[y:y+h, x:x+w] ,(64,64))\n",
        "        img2 = image.img_to_array(img1)/255\n",
        "        img3 = np.expand_dims(img2,axis=0)\n",
        "        print(model.predict(img3))\n",
        "             \n",
        "        if model.predict(img3)>.9 :\n",
        "              cv2.rectangle(frame,(x,y),(x+w,y+h),(0,0,255),2)#shows red rectangle if no mask\n",
        "        else :\n",
        "              cv2.rectangle(frame,(x,y),(x+w,y+h),(0,255,0),2) #shows green rectangle if no mask\n",
        "\n",
        "    # Display the resulting frame\n",
        "    cv2.imshow('Video', frame)\n",
        "\n",
        "    if cv2.waitKey(1) & 0xFF == ord('q'):#quit when q is pressed\n",
        "        break\n",
        "\n",
        "# When everything is done, release the capture\n",
        "video_capture.release()\n",
        "cv2.destroyAllWindows()"
      ],
      "execution_count": 0,
      "outputs": []
    }
  ]
}